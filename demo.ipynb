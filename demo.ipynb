{
 "cells": [
  {
   "cell_type": "markdown",
   "metadata": {},
   "source": [
    "# How to use bikit-models"
   ]
  },
  {
   "cell_type": "code",
   "execution_count": 5,
   "metadata": {},
   "outputs": [
    {
     "name": "stdout",
     "output_type": "stream",
     "text": [
      "The autoreload extension is already loaded. To reload it, use:\n",
      "  %reload_ext autoreload\n"
     ]
    }
   ],
   "source": [
    "%load_ext autoreload\n",
    "%autoreload 2\n",
    "import os, sys\n",
    "sys.path.insert(0, os.path.abspath('./models'))\n",
    "\n",
    "import torch\n",
    "\n",
    "import utils\n",
    "from vistranet import build_vistra\n",
    "from daclnet import build_dacl"
   ]
  },
  {
   "cell_type": "markdown",
   "metadata": {},
   "source": [
    "## Load an example image"
   ]
  },
  {
   "cell_type": "code",
   "execution_count": 6,
   "metadata": {},
   "outputs": [],
   "source": [
    "img_path = 'assets\\image_0000468_crop_0000001.png'"
   ]
  },
  {
   "cell_type": "markdown",
   "metadata": {},
   "source": [
    "## Use models from daclnet\n",
    "Each model has a `cat_to_name` dictionary which defines the order of the classes in the output. "
   ]
  },
  {
   "cell_type": "code",
   "execution_count": null,
   "metadata": {},
   "outputs": [
    {
     "name": "stdout",
     "output_type": "stream",
     "text": [
      "=====Model summary=====\n",
      "The model was instantiated from models\\checkpoints\\codebrim-classif-balanced\\codebrim-classif-balanced_MobileNetV3-Large_hta.pth with the following arguments:\n",
      "dataset: codebrim-classif-balanced\n",
      "base: mobilenet\n",
      "resolution: 224\n",
      "run: earnest-durian-22\n",
      "best_val_loss_cp: 0.23312173125805793\n",
      "best_val_emr_cp: 0.8607633113861084\n",
      "best_val_epoch_cp: 44\n",
      "hidden_layers: [1024]\n",
      "learning_rate: 1e-05\n",
      "lr_base: False\n",
      "scheduler_name: cosine\n",
      "drop_prob: 0.3\n",
      "approach: hta\n",
      "num_class: 6\n",
      "cat_to_name: {0: 'NoDamage', 1: 'Crack', 2: 'Efflorescence', 3: 'Spalling', 4: 'BarsExposed', 5: 'Rust'}\n",
      "The base is frozen: True\n",
      "\n",
      "********** Output **********\n",
      "NoDamage: 5.47%\n",
      "Crack: 1.24%\n",
      "Efflorescence: 0.27%\n",
      "Spalling: 98.58%\n",
      "BarsExposed: 96.62%\n",
      "Rust: 80.03%\n"
     ]
    }
   ],
   "source": [
    "# Preprocess image\n",
    "img_proc = utils.process_img_daclnet(img_path)\n",
    "\n",
    "# Instantiate the model:\n",
    "model, cat_to_name = build_dacl(cp_path='models\\checkpoints\\codebrim-classif-balanced\\codebrim-classif-balanced_MobileNetV3-Large_hta.pth')\n",
    "\n",
    "model.eval()\n",
    "with torch.no_grad(): # Disable tracking of gradients in autograd (saves some time)\n",
    "    logits = model(img_proc)\n",
    "    preds = torch.sigmoid(logits).float().squeeze(0)\n",
    "\n",
    "# Make a dict with the predictions:\n",
    "preds_dict = {v:round(preds[int(k)].item(),4) for k,v in cat_to_name.items()}\n",
    "print('*'*10, 'Output', '*'*10)\n",
    "for k,v in preds_dict.items():\n",
    "    print('%s: %.2f%%' % (k,v*100)) \n",
    "# View the classified image and it's predictions:\n",
    "utils.view_classify(img_path, preds_dict)"
   ]
  },
  {
   "cell_type": "markdown",
   "metadata": {},
   "source": [
    "## Use model from SOFIA"
   ]
  },
  {
   "cell_type": "code",
   "execution_count": null,
   "metadata": {},
   "outputs": [],
   "source": [
    "# Preprocess image\n",
    "img_proc = utils.process_img_vistranet(img_path)\n",
    "\n",
    "# Instantiate the model:\n",
    "model, cat_to_name = build_vistra(cp_path='models\\checkpoints\\codebrim-classif-balanced\\codebrim-classif-balanced_ViT_s8.pth')\n",
    "\n",
    "model.eval()\n",
    "with torch.no_grad(): # Disable tracking of gradients in autograd (saves some time)\n",
    "    logits = model(img_proc)\n",
    "    preds = torch.sigmoid(logits).float().squeeze(0)\n",
    "\n",
    "# Make a dict with the predictions:\n",
    "preds_dict = {v:round(preds[int(k)].item(),4) for k,v in cat_to_name.items()}\n",
    "print('*'*10, 'Output', '*'*10)\n",
    "for k,v in preds_dict.items():\n",
    "    print('%s: %.2f%%' % (k,v*100)) \n",
    "# View the classified image and it's predictions:\n",
    "utils.view_classify(img_path, preds_dict)"
   ]
  },
  {
   "cell_type": "markdown",
   "metadata": {},
   "source": [
    "## Use a PyTorch model which was converted to TorchScript by tracing\n",
    "The models are located at: `./models/jit_models/*.pt`"
   ]
  },
  {
   "cell_type": "code",
   "execution_count": null,
   "metadata": {},
   "outputs": [
    {
     "name": "stdout",
     "output_type": "stream",
     "text": [
      "********** Output **********\n",
      "NoDamage: 4.33%\n",
      "Crack: 3.01%\n",
      "Efflorescence: 1.60%\n",
      "Spalling: 12.23%\n",
      "BarsExposed: 4.76%\n",
      "Rust: 91.83%\n"
     ]
    }
   ],
   "source": [
    "# Preprocess image\n",
    "img_proc = utils.process_img_daclnet(img_path)\n",
    "\n",
    "model = torch.jit.load('./models/jit_models/dacl1k_MobileNetV3-Large_hta.pt')\n",
    "model.eval()\n",
    "\n",
    "with torch.no_grad(): # Disable tracking of gradients in autograd (saves some time)\n",
    "    logits = model(img_proc)\n",
    "    preds = torch.sigmoid(logits).float().squeeze(0)\n",
    "\n",
    "# We couldn't save the 'cat_to_name'-dict in the TorchScript so we have to define it ourselves:\n",
    "cat_to_name = {0: 'NoDamage', 1: 'Crack', 2: 'Efflorescence', 3: 'Spalling', 4: 'BarsExposed', 5: 'Rust'}\n",
    "\n",
    "# Make a dict with the predictions:\n",
    "preds_dict = {v:round(preds[int(k)].item(),4) for k,v in cat_to_name.items()}\n",
    "print('*'*10, 'Output', '*'*10)\n",
    "for k,v in preds_dict.items():\n",
    "    print('%s: %.2f%%' % (k,v*100)) \n",
    "# View the classified image and it's predictions:\n",
    "utils.view_classify(img_path, preds_dict)"
   ]
  },
  {
   "cell_type": "code",
   "execution_count": null,
   "metadata": {},
   "outputs": [],
   "source": []
  }
 ],
 "metadata": {
  "kernelspec": {
   "display_name": "Python 3 (ipykernel)",
   "language": "python",
   "name": "python3"
  },
  "language_info": {
   "codemirror_mode": {
    "name": "ipython",
    "version": 3
   },
   "file_extension": ".py",
   "mimetype": "text/x-python",
   "name": "python",
   "nbconvert_exporter": "python",
   "pygments_lexer": "ipython3",
   "version": "3.9.7"
  },
  "vscode": {
   "interpreter": {
    "hash": "ad2bdc8ecc057115af97d19610ffacc2b4e99fae6737bb82f5d7fb13d2f2c186"
   }
  }
 },
 "nbformat": 4,
 "nbformat_minor": 2
}
