{
 "cells": [
  {
   "cell_type": "markdown",
   "metadata": {},
   "source": [
    "# How to use bikit-models"
   ]
  },
  {
   "cell_type": "code",
   "execution_count": null,
   "metadata": {},
   "outputs": [],
   "source": [
    "%load_ext autoreload\n",
    "%autoreload 2\n",
    "import os, sys\n",
    "sys.path.insert(0, os.path.abspath('./models'))\n",
    "\n",
    "import torch\n",
    "\n",
    "import utils\n",
    "from vistranet import build_vistra\n",
    "from daclnet import build_dacl"
   ]
  },
  {
   "cell_type": "markdown",
   "metadata": {},
   "source": [
    "## Load an example image"
   ]
  },
  {
   "cell_type": "code",
   "execution_count": null,
   "metadata": {},
   "outputs": [],
   "source": [
    "img_path = 'assets\\image_0000468_crop_0000001.png'"
   ]
  },
  {
   "cell_type": "markdown",
   "metadata": {},
   "source": [
    "## Use models from daclnet\n",
    "Each model has a `cat_to_name` dictionary which defines the order of the classes in the output. "
   ]
  },
  {
   "cell_type": "code",
   "execution_count": null,
   "metadata": {},
   "outputs": [],
   "source": [
    "# Preprocess image\n",
    "img_proc = utils.process_img_daclnet(img_path)\n",
    "\n",
    "# Instantiate the model:\n",
    "model, cat_to_name = build_dacl(cp_path='models\\checkpoints\\codebrim-classif-balanced\\codebrim-classif-balanced_MobileNetV3-Large_hta.pth')\n",
    "\n",
    "model.eval()\n",
    "with torch.no_grad(): # Disable tracking of gradients in autograd (saves some time)\n",
    "    logits = model(img_proc)\n",
    "    preds = torch.sigmoid(logits).float().squeeze(0)\n",
    "\n",
    "# Make a dict with the predictions:\n",
    "preds_dict = {v:round(preds[int(k)].item(),4) for k,v in cat_to_name.items()}\n",
    "print('*'*10, 'Output', '*'*10)\n",
    "for k,v in preds_dict.items():\n",
    "    print('%s: %.2f%%' % (k,v*100)) \n",
    "# View the classified image and it's predictions:\n",
    "utils.view_classify(img_path, preds_dict)"
   ]
  },
  {
   "cell_type": "markdown",
   "metadata": {},
   "source": [
    "## Use model from SOFIA"
   ]
  },
  {
   "cell_type": "code",
   "execution_count": null,
   "metadata": {},
   "outputs": [],
   "source": [
    "# Preprocess image\n",
    "img_proc = utils.process_img_vistranet(img_path)\n",
    "\n",
    "# Instantiate the model:\n",
    "model, cat_to_name = build_vistra(cp_path='models\\checkpoints\\codebrim-classif-balanced\\codebrim-classif-balanced_ViT_s8.pth')\n",
    "\n",
    "model.eval()\n",
    "with torch.no_grad(): # Disable tracking of gradients in autograd (saves some time)\n",
    "    logits = model(img_proc)\n",
    "    preds = torch.sigmoid(logits).float().squeeze(0)\n",
    "\n",
    "# Make a dict with the predictions:\n",
    "preds_dict = {v:round(preds[int(k)].item(),4) for k,v in cat_to_name.items()}\n",
    "print('*'*10, 'Output', '*'*10)\n",
    "for k,v in preds_dict.items():\n",
    "    print('%s: %.2f%%' % (k,v*100)) \n",
    "# View the classified image and it's predictions:\n",
    "utils.view_classify(img_path, preds_dict)"
   ]
  },
  {
   "cell_type": "code",
   "execution_count": null,
   "metadata": {},
   "outputs": [],
   "source": []
  }
 ],
 "metadata": {
  "kernelspec": {
   "display_name": "Python 3 (ipykernel)",
   "language": "python",
   "name": "python3"
  },
  "language_info": {
   "codemirror_mode": {
    "name": "ipython",
    "version": 3
   },
   "file_extension": ".py",
   "mimetype": "text/x-python",
   "name": "python",
   "nbconvert_exporter": "python",
   "pygments_lexer": "ipython3",
   "version": "3.9.7"
  },
  "vscode": {
   "interpreter": {
    "hash": "ad2bdc8ecc057115af97d19610ffacc2b4e99fae6737bb82f5d7fb13d2f2c186"
   }
  }
 },
 "nbformat": 4,
 "nbformat_minor": 2
}
